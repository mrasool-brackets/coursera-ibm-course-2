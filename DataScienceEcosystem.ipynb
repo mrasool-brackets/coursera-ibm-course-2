{
  "nbformat": 4,
  "nbformat_minor": 0,
  "metadata": {
    "colab": {
      "provenance": []
    },
    "kernelspec": {
      "name": "python3",
      "display_name": "Python 3"
    },
    "language_info": {
      "name": "python"
    }
  },
  "cells": [
    {
      "cell_type": "markdown",
      "source": [
        "<h1>Data Science Tools and Ecosystem</h1>\n"
      ],
      "metadata": {
        "id": "A2qdF0MBGPC1"
      }
    },
    {
      "cell_type": "markdown",
      "source": [
        "In this notebook, Data Science Tools and Ecosystem are summarized."
      ],
      "metadata": {
        "id": "sgqV7YESJq7L"
      }
    },
    {
      "cell_type": "markdown",
      "source": [
        "Some of the popular languages that Data Scientists use are:\n",
        "\n",
        "\n",
        "\n",
        "1.   Python\n",
        "2.   R\n",
        "3.   C++\n",
        "4.   MATLAB\n",
        "\n"
      ],
      "metadata": {
        "id": "yLIe8wk5ihCo"
      }
    },
    {
      "cell_type": "markdown",
      "source": [
        "Some of the commonly used libraries used by Data Scientists include:\n",
        "\n",
        "\n",
        "\n",
        "1.   sklearn\n",
        "2.   Pandas\n",
        "3.   Numpy\n",
        "4.   sci-kit Learn\n",
        "\n"
      ],
      "metadata": {
        "id": "KjUuigSCjJ6H"
      }
    },
    {
      "cell_type": "markdown",
      "source": [
        "| Data Science Tools |\n",
        "| --- |\n",
        "| Jupyter Notebook |\n",
        "| JupyterLab |\n",
        "| RStudio |"
      ],
      "metadata": {
        "id": "NW6meeLijjlV"
      }
    },
    {
      "cell_type": "markdown",
      "source": [
        "<h3>Below are a few examples of evaluating arithmetic expressions in Python</h3>"
      ],
      "metadata": {
        "id": "0VU6b1q3y21Y"
      }
    },
    {
      "cell_type": "code",
      "execution_count": 2,
      "metadata": {
        "id": "_wxGD-rH2tnI",
        "colab": {
          "base_uri": "https://localhost:8080/"
        },
        "outputId": "15c4d763-51b2-434a-f5ae-684faebfbfc3"
      },
      "outputs": [
        {
          "output_type": "execute_result",
          "data": {
            "text/plain": [
              "17"
            ]
          },
          "metadata": {},
          "execution_count": 2
        }
      ],
      "source": [
        "# This a simple arithmetic expression to mutiply then add integers\n",
        "(3*4)+5"
      ]
    },
    {
      "cell_type": "code",
      "source": [
        "# This will convert 200 minutes to hours by diving by 60\n",
        "200/60"
      ],
      "metadata": {
        "colab": {
          "base_uri": "https://localhost:8080/"
        },
        "id": "QzVPpJmTzLVF",
        "outputId": "27a725f0-3920-4257-9028-7a28f77bab67"
      },
      "execution_count": 3,
      "outputs": [
        {
          "output_type": "execute_result",
          "data": {
            "text/plain": [
              "3.3333333333333335"
            ]
          },
          "metadata": {},
          "execution_count": 3
        }
      ]
    },
    {
      "cell_type": "markdown",
      "source": [
        "**Objectives:**\n",
        "\n",
        "\n",
        "\n",
        "*   List popular languages for Data Science\n",
        "*   List popular libraries for Data Science\n",
        "*   List open source tools for Data Science\n",
        "\n"
      ],
      "metadata": {
        "id": "VOPivPzKzoMQ"
      }
    },
    {
      "cell_type": "markdown",
      "source": [
        "<h2>Author</h2>\n",
        "\n",
        "Momen Rasool"
      ],
      "metadata": {
        "id": "YjYkXht__G2t"
      }
    },
    {
      "cell_type": "code",
      "source": [],
      "metadata": {
        "id": "9Tef5Ax0zYW4"
      },
      "execution_count": null,
      "outputs": []
    }
  ]
}